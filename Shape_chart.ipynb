{
 "cells": [
  {
   "cell_type": "code",
   "execution_count": 3,
   "metadata": {},
   "outputs": [],
   "source": [
    "from src.cleaner import clean_data\n",
    "from src.helpers import *\n",
    "import pandas as pd"
   ]
  },
  {
   "cell_type": "code",
   "execution_count": 4,
   "metadata": {},
   "outputs": [],
   "source": [
    "df = pd.read_csv('data/ufo_csv.csv')"
   ]
  },
  {
   "cell_type": "code",
   "execution_count": 5,
   "metadata": {},
   "outputs": [
    {
     "data": {
      "text/plain": [
       " Circle       17\n",
       " Light        13\n",
       " Other        12\n",
       " Disk          8\n",
       " Unknown       8\n",
       " Sphere        8\n",
       " Oval          7\n",
       " Triangle      6\n",
       " Rectangle     4\n",
       " Changing      3\n",
       " Formation     3\n",
       " Diamond       2\n",
       " Cylinder      2\n",
       " Fireball      2\n",
       " Teardrop      1\n",
       " Flash         1\n",
       " Chevron       1\n",
       "               1\n",
       "Name: shape, dtype: int64"
      ]
     },
     "execution_count": 5,
     "metadata": {},
     "output_type": "execute_result"
    }
   ],
   "source": [
    "clean_df = clean_data(df)\n",
    "clean_df['shape'].value_counts()"
   ]
  },
  {
   "cell_type": "code",
   "execution_count": null,
   "metadata": {},
   "outputs": [],
   "source": []
  },
  {
   "cell_type": "code",
   "execution_count": null,
   "metadata": {},
   "outputs": [],
   "source": [
    "brand_group = auto_df[['Gas Mileage (Combined)', 'Brand']].groupby('Brand').apply(lambda x: x.mean())\n",
    "brand_group.sort_values('Gas Mileage (Combined)', inplace=True)\n",
    "brand_group.reset_index(inplace=True)\n",
    "\n",
    "# Draw plot\n",
    "fig, ax = plt.subplots(figsize=(14,7), dpi= 80)\n",
    "ax.vlines(x=brand_group.index, ymin=0, ymax=brand_group[\"Gas Mileage (Combined)\"], color='firebrick', alpha=0.7, linewidth=20)"
   ]
  }
 ],
 "metadata": {
  "kernelspec": {
   "display_name": "Python 3",
   "language": "python",
   "name": "python3"
  },
  "language_info": {
   "codemirror_mode": {
    "name": "ipython",
    "version": 3
   },
   "file_extension": ".py",
   "mimetype": "text/x-python",
   "name": "python",
   "nbconvert_exporter": "python",
   "pygments_lexer": "ipython3",
   "version": "3.7.4"
  }
 },
 "nbformat": 4,
 "nbformat_minor": 4
}
