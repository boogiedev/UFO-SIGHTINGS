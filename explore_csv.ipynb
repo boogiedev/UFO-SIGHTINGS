{
 "cells": [
  {
   "cell_type": "code",
   "execution_count": 1,
   "metadata": {},
   "outputs": [],
   "source": [
    "%load_ext autoreload\n",
    "%autoreload 2"
   ]
  },
  {
   "cell_type": "code",
   "execution_count": 2,
   "metadata": {},
   "outputs": [],
   "source": [
    "import numpy as np\n",
    "import requests\n",
    "import pandas as pd\n",
    "import json\n",
    "from pprint import pprint\n",
    "import copy\n",
    "\n",
    "# Requests sends and recieves HTTP requests.\n",
    "import requests\n",
    "\n",
    "# Beautiful Soup parses HTML documents in python.\n",
    "from bs4 import BeautifulSoup"
   ]
  },
  {
   "cell_type": "code",
   "execution_count": 12,
   "metadata": {},
   "outputs": [],
   "source": [
    "df = pd.read_csv('data/ufo_csv.csv')"
   ]
  },
  {
   "cell_type": "code",
   "execution_count": 14,
   "metadata": {},
   "outputs": [
    {
     "data": {
      "text/html": [
       "<div>\n",
       "<style scoped>\n",
       "    .dataframe tbody tr th:only-of-type {\n",
       "        vertical-align: middle;\n",
       "    }\n",
       "\n",
       "    .dataframe tbody tr th {\n",
       "        vertical-align: top;\n",
       "    }\n",
       "\n",
       "    .dataframe thead th {\n",
       "        text-align: right;\n",
       "    }\n",
       "</style>\n",
       "<table border=\"1\" class=\"dataframe\">\n",
       "  <thead>\n",
       "    <tr style=\"text-align: right;\">\n",
       "      <th></th>\n",
       "      <th>_id/$oid</th>\n",
       "      <th>url</th>\n",
       "      <th>html</th>\n",
       "      <th>time</th>\n",
       "    </tr>\n",
       "  </thead>\n",
       "  <tbody>\n",
       "    <tr>\n",
       "      <th>0</th>\n",
       "      <td>591382287c40e83fd74240bd</td>\n",
       "      <td>http://www.nuforc.org/webreports/133/S133978.html</td>\n",
       "      <td>&lt;html xmlns:v=\"urn:schemas-microsoft-com:vml\"\\...</td>\n",
       "      <td>Wed May 10 21:12:07 2017</td>\n",
       "    </tr>\n",
       "    <tr>\n",
       "      <th>1</th>\n",
       "      <td>591389377c40e840c123dfef</td>\n",
       "      <td>http://www.nuforc.org/webreports/133/S133977.h...</td>\n",
       "      <td>&lt;html xmlns:v=\"urn:schemas-microsoft-com:vml\"\\...</td>\n",
       "      <td>Wed May 10 21:42:15 2017</td>\n",
       "    </tr>\n",
       "    <tr>\n",
       "      <th>2</th>\n",
       "      <td>591389397c40e840c123dff0</td>\n",
       "      <td>http://www.nuforc.org/webreports/133/S133974.h...</td>\n",
       "      <td>&lt;html xmlns:v=\"urn:schemas-microsoft-com:vml\"\\...</td>\n",
       "      <td>Wed May 10 21:42:17 2017</td>\n",
       "    </tr>\n",
       "    <tr>\n",
       "      <th>3</th>\n",
       "      <td>5913893c7c40e840c123dff1</td>\n",
       "      <td>http://www.nuforc.org/webreports/133/S133964.h...</td>\n",
       "      <td>&lt;html xmlns:v=\"urn:schemas-microsoft-com:vml\"\\...</td>\n",
       "      <td>Wed May 10 21:42:20 2017</td>\n",
       "    </tr>\n",
       "    <tr>\n",
       "      <th>4</th>\n",
       "      <td>5913893f7c40e840c123dff2</td>\n",
       "      <td>http://www.nuforc.org/webreports/133/S133962.h...</td>\n",
       "      <td>&lt;html xmlns:v=\"urn:schemas-microsoft-com:vml\"\\...</td>\n",
       "      <td>Wed May 10 21:42:23 2017</td>\n",
       "    </tr>\n",
       "  </tbody>\n",
       "</table>\n",
       "</div>"
      ],
      "text/plain": [
       "                   _id/$oid  \\\n",
       "0  591382287c40e83fd74240bd   \n",
       "1  591389377c40e840c123dfef   \n",
       "2  591389397c40e840c123dff0   \n",
       "3  5913893c7c40e840c123dff1   \n",
       "4  5913893f7c40e840c123dff2   \n",
       "\n",
       "                                                 url  \\\n",
       "0  http://www.nuforc.org/webreports/133/S133978.html   \n",
       "1  http://www.nuforc.org/webreports/133/S133977.h...   \n",
       "2  http://www.nuforc.org/webreports/133/S133974.h...   \n",
       "3  http://www.nuforc.org/webreports/133/S133964.h...   \n",
       "4  http://www.nuforc.org/webreports/133/S133962.h...   \n",
       "\n",
       "                                                html                      time  \n",
       "0  <html xmlns:v=\"urn:schemas-microsoft-com:vml\"\\...  Wed May 10 21:12:07 2017  \n",
       "1  <html xmlns:v=\"urn:schemas-microsoft-com:vml\"\\...  Wed May 10 21:42:15 2017  \n",
       "2  <html xmlns:v=\"urn:schemas-microsoft-com:vml\"\\...  Wed May 10 21:42:17 2017  \n",
       "3  <html xmlns:v=\"urn:schemas-microsoft-com:vml\"\\...  Wed May 10 21:42:20 2017  \n",
       "4  <html xmlns:v=\"urn:schemas-microsoft-com:vml\"\\...  Wed May 10 21:42:23 2017  "
      ]
     },
     "execution_count": 14,
     "metadata": {},
     "output_type": "execute_result"
    }
   ],
   "source": [
    "df.head()"
   ]
  },
  {
   "cell_type": "code",
   "execution_count": 4,
   "metadata": {},
   "outputs": [],
   "source": [
    "from src.cleaner import clean_data"
   ]
  },
  {
   "cell_type": "code",
   "execution_count": 5,
   "metadata": {},
   "outputs": [],
   "source": [
    "clean_df = clean_data(df)"
   ]
  },
  {
   "cell_type": "code",
   "execution_count": 6,
   "metadata": {},
   "outputs": [
    {
     "data": {
      "text/html": [
       "<div>\n",
       "<style scoped>\n",
       "    .dataframe tbody tr th:only-of-type {\n",
       "        vertical-align: middle;\n",
       "    }\n",
       "\n",
       "    .dataframe tbody tr th {\n",
       "        vertical-align: top;\n",
       "    }\n",
       "\n",
       "    .dataframe thead th {\n",
       "        text-align: right;\n",
       "    }\n",
       "</style>\n",
       "<table border=\"1\" class=\"dataframe\">\n",
       "  <thead>\n",
       "    <tr style=\"text-align: right;\">\n",
       "      <th></th>\n",
       "      <th>ID</th>\n",
       "      <th>url</th>\n",
       "      <th>html</th>\n",
       "      <th>time</th>\n",
       "      <th>state</th>\n",
       "      <th>content</th>\n",
       "      <th>shape</th>\n",
       "      <th>duration</th>\n",
       "    </tr>\n",
       "  </thead>\n",
       "  <tbody>\n",
       "    <tr>\n",
       "      <th>0</th>\n",
       "      <td>591382287c40e83fd74240bd</td>\n",
       "      <td>http://www.nuforc.org/webreports/133/S133978.html</td>\n",
       "      <td>&lt;html xmlns:v=\"urn:schemas-microsoft-com:vml\"\\...</td>\n",
       "      <td>2017-05-10 21:12:07</td>\n",
       "      <td>NM</td>\n",
       "      <td>Light seen over mountain's east of Camp McGreg...</td>\n",
       "      <td>Light</td>\n",
       "      <td>10 minutes</td>\n",
       "    </tr>\n",
       "    <tr>\n",
       "      <th>1</th>\n",
       "      <td>591389377c40e840c123dfef</td>\n",
       "      <td>http://www.nuforc.org/webreports/133/S133977.h...</td>\n",
       "      <td>&lt;html xmlns:v=\"urn:schemas-microsoft-com:vml\"\\...</td>\n",
       "      <td>2017-05-10 21:42:15</td>\n",
       "      <td>BC</td>\n",
       "      <td>Light in sky stationary.  Not a airplane or an...</td>\n",
       "      <td>Light</td>\n",
       "      <td>1:00</td>\n",
       "    </tr>\n",
       "    <tr>\n",
       "      <th>2</th>\n",
       "      <td>591389397c40e840c123dff0</td>\n",
       "      <td>http://www.nuforc.org/webreports/133/S133974.h...</td>\n",
       "      <td>&lt;html xmlns:v=\"urn:schemas-microsoft-com:vml\"\\...</td>\n",
       "      <td>2017-05-10 21:42:17</td>\n",
       "      <td>TX</td>\n",
       "      <td>Flying saucer descends, possibly lands in Nort...</td>\n",
       "      <td>Disk</td>\n",
       "      <td>3 seconds</td>\n",
       "    </tr>\n",
       "    <tr>\n",
       "      <th>3</th>\n",
       "      <td>5913893c7c40e840c123dff1</td>\n",
       "      <td>http://www.nuforc.org/webreports/133/S133964.h...</td>\n",
       "      <td>&lt;html xmlns:v=\"urn:schemas-microsoft-com:vml\"\\...</td>\n",
       "      <td>2017-05-10 21:42:20</td>\n",
       "      <td>AZ</td>\n",
       "      <td>While letting my dog out, a very bright white ...</td>\n",
       "      <td>Circle</td>\n",
       "      <td>30 seconds</td>\n",
       "    </tr>\n",
       "    <tr>\n",
       "      <th>4</th>\n",
       "      <td>5913893f7c40e840c123dff2</td>\n",
       "      <td>http://www.nuforc.org/webreports/133/S133962.h...</td>\n",
       "      <td>&lt;html xmlns:v=\"urn:schemas-microsoft-com:vml\"\\...</td>\n",
       "      <td>2017-05-10 21:42:23</td>\n",
       "      <td>NE</td>\n",
       "      <td>A fire ball was moving in the atmosphere while...</td>\n",
       "      <td>Fireball</td>\n",
       "      <td>0:18</td>\n",
       "    </tr>\n",
       "  </tbody>\n",
       "</table>\n",
       "</div>"
      ],
      "text/plain": [
       "                         ID  \\\n",
       "0  591382287c40e83fd74240bd   \n",
       "1  591389377c40e840c123dfef   \n",
       "2  591389397c40e840c123dff0   \n",
       "3  5913893c7c40e840c123dff1   \n",
       "4  5913893f7c40e840c123dff2   \n",
       "\n",
       "                                                 url  \\\n",
       "0  http://www.nuforc.org/webreports/133/S133978.html   \n",
       "1  http://www.nuforc.org/webreports/133/S133977.h...   \n",
       "2  http://www.nuforc.org/webreports/133/S133974.h...   \n",
       "3  http://www.nuforc.org/webreports/133/S133964.h...   \n",
       "4  http://www.nuforc.org/webreports/133/S133962.h...   \n",
       "\n",
       "                                                html                time  \\\n",
       "0  <html xmlns:v=\"urn:schemas-microsoft-com:vml\"\\... 2017-05-10 21:12:07   \n",
       "1  <html xmlns:v=\"urn:schemas-microsoft-com:vml\"\\... 2017-05-10 21:42:15   \n",
       "2  <html xmlns:v=\"urn:schemas-microsoft-com:vml\"\\... 2017-05-10 21:42:17   \n",
       "3  <html xmlns:v=\"urn:schemas-microsoft-com:vml\"\\... 2017-05-10 21:42:20   \n",
       "4  <html xmlns:v=\"urn:schemas-microsoft-com:vml\"\\... 2017-05-10 21:42:23   \n",
       "\n",
       "  state                                            content      shape  \\\n",
       "0    NM  Light seen over mountain's east of Camp McGreg...      Light   \n",
       "1    BC  Light in sky stationary.  Not a airplane or an...      Light   \n",
       "2    TX  Flying saucer descends, possibly lands in Nort...       Disk   \n",
       "3    AZ  While letting my dog out, a very bright white ...     Circle   \n",
       "4    NE  A fire ball was moving in the atmosphere while...   Fireball   \n",
       "\n",
       "     duration  \n",
       "0  10 minutes  \n",
       "1        1:00  \n",
       "2   3 seconds  \n",
       "3  30 seconds  \n",
       "4        0:18  "
      ]
     },
     "execution_count": 6,
     "metadata": {},
     "output_type": "execute_result"
    }
   ],
   "source": [
    "clean_df.head()"
   ]
  },
  {
   "cell_type": "code",
   "execution_count": 7,
   "metadata": {},
   "outputs": [],
   "source": [
    "# use BeautifulSoup to parse the html\n",
    "soup = BeautifulSoup(df['html'][2], 'html.parser')"
   ]
  },
  {
   "cell_type": "code",
   "execution_count": 8,
   "metadata": {},
   "outputs": [],
   "source": [
    "# print(soup.prettify())"
   ]
  },
  {
   "cell_type": "code",
   "execution_count": 9,
   "metadata": {},
   "outputs": [],
   "source": [
    "meta_data = soup.find_all('tbody')[0].find_all('tr')[0]"
   ]
  },
  {
   "cell_type": "code",
   "execution_count": 10,
   "metadata": {},
   "outputs": [
    {
     "data": {
      "text/plain": [
       "{'Occurred ': ' 5/5/2017 11:30  (Entered as : 05/05/17 11:30)',\n",
       " 'Reported': ' 5/5/2017 12:18:44 PM 12:18',\n",
       " 'Posted': ' 5/6/2017',\n",
       " 'Location': ' Austin, TX',\n",
       " 'Shape': ' Disk',\n",
       " 'Duration': '3 seconds'}"
      ]
     },
     "execution_count": 10,
     "metadata": {},
     "output_type": "execute_result"
    }
   ],
   "source": [
    "s = meta_data.get_text('|', strip=True).split(\"|\")\n",
    "s_dict = {x.partition(\":\")[0]:x.partition(\":\")[-1] for x in s}\n",
    "s_dict"
   ]
  },
  {
   "cell_type": "code",
   "execution_count": 11,
   "metadata": {},
   "outputs": [
    {
     "data": {
      "text/plain": [
       "\"Flying saucer descends, possibly lands in North Austin nature trailAt approximately 11:30 AM I was on the balcony of my apartment when I saw a flying object descending in the sky very rapidly.  It traveled from west to east over Walnut Creek where it appeared to land on the trail.  It definitely went below the tree line.This was near Brentwood Christian School on North Lamar.The craft was about 150m from my apartment, approximately 100 feet in the air and looked like it could have had a diameter of maybe 50 feet, but I didn't see the top of it clearly.It was shaped like an upside-down saucer and it had a clearly metallic surface, like brushed aluminum.  It wasn't wobbling or tumbling or anything like that, just a very smooth controlled descent.I heard no sound at all.  I would not have noticed this object if I hadn't already been looking directly at the sky.Choosing to remain anonymous unless other people come forward with having seen something.((NUFORC Note:  We would like to communicate with this witness, and we would like to have the witness contact the local news media, in order to encourage other witnesses to come forward.  PD))\""
      ]
     },
     "execution_count": 11,
     "metadata": {},
     "output_type": "execute_result"
    }
   ],
   "source": [
    "entry = soup.find_all('tbody')[0].find_all('tr')[1]\n",
    "entry.get_text(strip=True)"
   ]
  },
  {
   "cell_type": "code",
   "execution_count": null,
   "metadata": {},
   "outputs": [],
   "source": []
  }
 ],
 "metadata": {
  "kernelspec": {
   "display_name": "Python 3",
   "language": "python",
   "name": "python3"
  },
  "language_info": {
   "codemirror_mode": {
    "name": "ipython",
    "version": 3
   },
   "file_extension": ".py",
   "mimetype": "text/x-python",
   "name": "python",
   "nbconvert_exporter": "python",
   "pygments_lexer": "ipython3",
   "version": "3.6.7"
  }
 },
 "nbformat": 4,
 "nbformat_minor": 4
}
